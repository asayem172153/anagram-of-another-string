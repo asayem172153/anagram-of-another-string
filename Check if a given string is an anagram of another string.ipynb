{
  "nbformat": 4,
  "nbformat_minor": 0,
  "metadata": {
    "colab": {
      "provenance": []
    },
    "kernelspec": {
      "name": "python3",
      "display_name": "Python 3"
    },
    "language_info": {
      "name": "python"
    }
  },
  "cells": [
    {
      "cell_type": "code",
      "execution_count": 1,
      "metadata": {
        "colab": {
          "base_uri": "https://localhost:8080/"
        },
        "id": "Xh62xfhrZFOq",
        "outputId": "a10a30d4-1d9b-4522-a25e-9d4d85e67368"
      },
      "outputs": [
        {
          "output_type": "stream",
          "name": "stdout",
          "text": [
            "Enter String1sayem\n",
            "Enter String2meysa\n",
            "sayem and meysa is anagram\n"
          ]
        }
      ],
      "source": [
        "string1 = input('Enter String1: ')\n",
        "string2 = input('Enter String2: ')\n",
        "\n",
        "flag = True\n",
        "if len(string1) == len(string2):\n",
        "  for i in string1:\n",
        "    if i not in string2:\n",
        "      flag = False\n",
        "      print(string1,'and',string2,'is not anagram')\n",
        "      break\n",
        "  if flag:\n",
        "    print(string1,'and',string2,'is anagram')\n",
        "else:\n",
        "  print(string1,'and',string2,'is not anagram')"
      ]
    },
    {
      "cell_type": "markdown",
      "source": [
        "**Another Approach**\n",
        "*more efficient*"
      ],
      "metadata": {
        "id": "b2ploldo5B4o"
      }
    },
    {
      "cell_type": "code",
      "source": [
        "string1 = input('Enter String1: ')\n",
        "string2 = input('Enter String2: ')\n",
        "\n",
        "if len(string1) != len(string2):\n",
        "\n",
        "  print(string1,'and',string2,'is not anagram!')\n",
        "\n",
        "else:\n",
        "  flag = True\n",
        "  char_freq = {}\n",
        "\n",
        "  for char in string1:\n",
        "    char_freq[char] = char_freq.get(char, 0) + 1\n",
        "\n",
        "  for char in string2:\n",
        "    if char not in char_freq:\n",
        "      print(string1,'and',string2,'is not anagram!')\n",
        "      flag = False\n",
        "      break\n",
        "    else:\n",
        "      char_freq[char] -=1\n",
        "\n",
        "    if char_freq[char] < 0:\n",
        "      print(string1,'and',string2,'is not anagram!')\n",
        "      flag = False\n",
        "      break\n",
        "  if flag:\n",
        "    print(string1,'and',string2,'is anagram!')\n",
        "\n",
        "\n",
        "\n"
      ],
      "metadata": {
        "colab": {
          "base_uri": "https://localhost:8080/"
        },
        "id": "fUS8t4iB5AJ8",
        "outputId": "2906016d-2030-4f70-b358-61175b1fb4e2"
      },
      "execution_count": 13,
      "outputs": [
        {
          "output_type": "stream",
          "name": "stdout",
          "text": [
            "Enter String1: saayyeem\n",
            "Enter String2: ssayeemy\n",
            "saayyeem and ssayeemy is not anagram!\n"
          ]
        }
      ]
    }
  ]
}